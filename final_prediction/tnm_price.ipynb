{
  "nbformat": 4,
  "nbformat_minor": 0,
  "metadata": {
    "colab": {
      "name": "tnm_price",
      "provenance": [],
      "collapsed_sections": []
    },
    "kernelspec": {
      "name": "python3",
      "display_name": "Python 3"
    },
    "language_info": {
      "name": "python"
    },
    "accelerator": "GPU"
  },
  "cells": [
    {
      "cell_type": "code",
      "metadata": {
        "id": "fY1zMWRIQ59e"
      },
      "source": [
        "from sklearn.metrics import mean_absolute_error\n",
        "from sklearn.model_selection import cross_val_score\n",
        "from sklearn import metrics\n",
        "from sklearn.metrics import mean_squared_error\n",
        "import seaborn as sns\n",
        "from sklearn.svm import SVR\n",
        "from sklearn.model_selection import KFold, train_test_split\n",
        "from math import sqrt\n",
        "import pandas as pd\n",
        "import numpy as np\n",
        "from sklearn.metrics import mean_squared_error, mean_absolute_error\n",
        "import matplotlib.pyplot as plt\n",
        "import pandas as pd\n",
        "import sklearn\n",
        "import category_encoders as ce"
      ],
      "execution_count": 19,
      "outputs": []
    },
    {
      "cell_type": "code",
      "metadata": {
        "id": "tqD2q5D-RUUa"
      },
      "source": [
        "dataset = pd.read_csv('/content/drive/MyDrive/Data_Final.csv')\n"
      ],
      "execution_count": 2,
      "outputs": []
    },
    {
      "cell_type": "code",
      "metadata": {
        "colab": {
          "base_uri": "https://localhost:8080/",
          "height": 563
        },
        "id": "dM_NjU74R324",
        "outputId": "d936b83a-e73a-4f51-b778-2984cacfd71f"
      },
      "source": [
        "dataset"
      ],
      "execution_count": 3,
      "outputs": [
        {
          "output_type": "execute_result",
          "data": {
            "text/html": [
              "<div>\n",
              "<style scoped>\n",
              "    .dataframe tbody tr th:only-of-type {\n",
              "        vertical-align: middle;\n",
              "    }\n",
              "\n",
              "    .dataframe tbody tr th {\n",
              "        vertical-align: top;\n",
              "    }\n",
              "\n",
              "    .dataframe thead th {\n",
              "        text-align: right;\n",
              "    }\n",
              "</style>\n",
              "<table border=\"1\" class=\"dataframe\">\n",
              "  <thead>\n",
              "    <tr style=\"text-align: right;\">\n",
              "      <th></th>\n",
              "      <th>Unnamed: 0</th>\n",
              "      <th>category_id</th>\n",
              "      <th>product_id</th>\n",
              "      <th>product</th>\n",
              "      <th>offer_price</th>\n",
              "      <th>regular_price</th>\n",
              "      <th>one_unit_price</th>\n",
              "      <th>quantity_unit</th>\n",
              "      <th>quantity</th>\n",
              "      <th>limited</th>\n",
              "    </tr>\n",
              "  </thead>\n",
              "  <tbody>\n",
              "    <tr>\n",
              "      <th>0</th>\n",
              "      <td>0</td>\n",
              "      <td>8</td>\n",
              "      <td>292</td>\n",
              "      <td>Vanilla cake with coconut</td>\n",
              "      <td>4.80</td>\n",
              "      <td>8.0</td>\n",
              "      <td>0.00</td>\n",
              "      <td>pcs</td>\n",
              "      <td>14.0</td>\n",
              "      <td>1</td>\n",
              "    </tr>\n",
              "    <tr>\n",
              "      <th>1</th>\n",
              "      <td>1</td>\n",
              "      <td>7</td>\n",
              "      <td>295</td>\n",
              "      <td>LETTMELK 0,5%</td>\n",
              "      <td>9.45</td>\n",
              "      <td>18.9</td>\n",
              "      <td>0.00</td>\n",
              "      <td>item</td>\n",
              "      <td>3.0</td>\n",
              "      <td>1</td>\n",
              "    </tr>\n",
              "    <tr>\n",
              "      <th>2</th>\n",
              "      <td>2</td>\n",
              "      <td>7</td>\n",
              "      <td>298</td>\n",
              "      <td>MANGO STK CEVITA</td>\n",
              "      <td>16.45</td>\n",
              "      <td>32.9</td>\n",
              "      <td>0.00</td>\n",
              "      <td>item</td>\n",
              "      <td>0.0</td>\n",
              "      <td>1</td>\n",
              "    </tr>\n",
              "    <tr>\n",
              "      <th>3</th>\n",
              "      <td>3</td>\n",
              "      <td>7</td>\n",
              "      <td>301</td>\n",
              "      <td>OST &amp; SKINKESALAT</td>\n",
              "      <td>21.45</td>\n",
              "      <td>42.9</td>\n",
              "      <td>0.00</td>\n",
              "      <td>item</td>\n",
              "      <td>0.0</td>\n",
              "      <td>1</td>\n",
              "    </tr>\n",
              "    <tr>\n",
              "      <th>4</th>\n",
              "      <td>4</td>\n",
              "      <td>7</td>\n",
              "      <td>304</td>\n",
              "      <td>TACOSALAT</td>\n",
              "      <td>21.45</td>\n",
              "      <td>42.9</td>\n",
              "      <td>0.00</td>\n",
              "      <td>item</td>\n",
              "      <td>0.0</td>\n",
              "      <td>1</td>\n",
              "    </tr>\n",
              "    <tr>\n",
              "      <th>...</th>\n",
              "      <td>...</td>\n",
              "      <td>...</td>\n",
              "      <td>...</td>\n",
              "      <td>...</td>\n",
              "      <td>...</td>\n",
              "      <td>...</td>\n",
              "      <td>...</td>\n",
              "      <td>...</td>\n",
              "      <td>...</td>\n",
              "      <td>...</td>\n",
              "    </tr>\n",
              "    <tr>\n",
              "      <th>2078027</th>\n",
              "      <td>2078027</td>\n",
              "      <td>7</td>\n",
              "      <td>4531</td>\n",
              "      <td>FAMILIEBRØD</td>\n",
              "      <td>9.95</td>\n",
              "      <td>19.9</td>\n",
              "      <td>9.95</td>\n",
              "      <td>item</td>\n",
              "      <td>2.0</td>\n",
              "      <td>1</td>\n",
              "    </tr>\n",
              "    <tr>\n",
              "      <th>2078028</th>\n",
              "      <td>2078028</td>\n",
              "      <td>7</td>\n",
              "      <td>325</td>\n",
              "      <td>HELMELK</td>\n",
              "      <td>11.45</td>\n",
              "      <td>22.9</td>\n",
              "      <td>11.45</td>\n",
              "      <td>item</td>\n",
              "      <td>0.0</td>\n",
              "      <td>1</td>\n",
              "    </tr>\n",
              "    <tr>\n",
              "      <th>2078029</th>\n",
              "      <td>2078029</td>\n",
              "      <td>7</td>\n",
              "      <td>418</td>\n",
              "      <td>KYLLING KJØTTDEIG</td>\n",
              "      <td>21.95</td>\n",
              "      <td>43.9</td>\n",
              "      <td>21.95</td>\n",
              "      <td>item</td>\n",
              "      <td>1.0</td>\n",
              "      <td>1</td>\n",
              "    </tr>\n",
              "    <tr>\n",
              "      <th>2078030</th>\n",
              "      <td>2078030</td>\n",
              "      <td>7</td>\n",
              "      <td>1270</td>\n",
              "      <td>COTTAGE CHEESE</td>\n",
              "      <td>28.63</td>\n",
              "      <td>40.9</td>\n",
              "      <td>28.63</td>\n",
              "      <td>item</td>\n",
              "      <td>3.0</td>\n",
              "      <td>1</td>\n",
              "    </tr>\n",
              "    <tr>\n",
              "      <th>2078031</th>\n",
              "      <td>2078031</td>\n",
              "      <td>7</td>\n",
              "      <td>1102</td>\n",
              "      <td>YOGHURT VANILJE</td>\n",
              "      <td>10.45</td>\n",
              "      <td>20.9</td>\n",
              "      <td>10.45</td>\n",
              "      <td>item</td>\n",
              "      <td>5.0</td>\n",
              "      <td>1</td>\n",
              "    </tr>\n",
              "  </tbody>\n",
              "</table>\n",
              "<p>2078032 rows × 10 columns</p>\n",
              "</div>"
            ],
            "text/plain": [
              "         Unnamed: 0  category_id  product_id  ... quantity_unit  quantity  limited\n",
              "0                 0            8         292  ...           pcs      14.0        1\n",
              "1                 1            7         295  ...          item       3.0        1\n",
              "2                 2            7         298  ...          item       0.0        1\n",
              "3                 3            7         301  ...          item       0.0        1\n",
              "4                 4            7         304  ...          item       0.0        1\n",
              "...             ...          ...         ...  ...           ...       ...      ...\n",
              "2078027     2078027            7        4531  ...          item       2.0        1\n",
              "2078028     2078028            7         325  ...          item       0.0        1\n",
              "2078029     2078029            7         418  ...          item       1.0        1\n",
              "2078030     2078030            7        1270  ...          item       3.0        1\n",
              "2078031     2078031            7        1102  ...          item       5.0        1\n",
              "\n",
              "[2078032 rows x 10 columns]"
            ]
          },
          "metadata": {
            "tags": []
          },
          "execution_count": 3
        }
      ]
    },
    {
      "cell_type": "code",
      "metadata": {
        "colab": {
          "base_uri": "https://localhost:8080/",
          "height": 424
        },
        "id": "LVmbt_DJR35i",
        "outputId": "44b34bb7-4b2f-4d9a-f528-b7b746c246fd"
      },
      "source": [
        "dataset.drop(['product','quantity_unit'], axis=1)"
      ],
      "execution_count": 4,
      "outputs": [
        {
          "output_type": "execute_result",
          "data": {
            "text/html": [
              "<div>\n",
              "<style scoped>\n",
              "    .dataframe tbody tr th:only-of-type {\n",
              "        vertical-align: middle;\n",
              "    }\n",
              "\n",
              "    .dataframe tbody tr th {\n",
              "        vertical-align: top;\n",
              "    }\n",
              "\n",
              "    .dataframe thead th {\n",
              "        text-align: right;\n",
              "    }\n",
              "</style>\n",
              "<table border=\"1\" class=\"dataframe\">\n",
              "  <thead>\n",
              "    <tr style=\"text-align: right;\">\n",
              "      <th></th>\n",
              "      <th>Unnamed: 0</th>\n",
              "      <th>category_id</th>\n",
              "      <th>product_id</th>\n",
              "      <th>offer_price</th>\n",
              "      <th>regular_price</th>\n",
              "      <th>one_unit_price</th>\n",
              "      <th>quantity</th>\n",
              "      <th>limited</th>\n",
              "    </tr>\n",
              "  </thead>\n",
              "  <tbody>\n",
              "    <tr>\n",
              "      <th>0</th>\n",
              "      <td>0</td>\n",
              "      <td>8</td>\n",
              "      <td>292</td>\n",
              "      <td>4.80</td>\n",
              "      <td>8.0</td>\n",
              "      <td>0.00</td>\n",
              "      <td>14.0</td>\n",
              "      <td>1</td>\n",
              "    </tr>\n",
              "    <tr>\n",
              "      <th>1</th>\n",
              "      <td>1</td>\n",
              "      <td>7</td>\n",
              "      <td>295</td>\n",
              "      <td>9.45</td>\n",
              "      <td>18.9</td>\n",
              "      <td>0.00</td>\n",
              "      <td>3.0</td>\n",
              "      <td>1</td>\n",
              "    </tr>\n",
              "    <tr>\n",
              "      <th>2</th>\n",
              "      <td>2</td>\n",
              "      <td>7</td>\n",
              "      <td>298</td>\n",
              "      <td>16.45</td>\n",
              "      <td>32.9</td>\n",
              "      <td>0.00</td>\n",
              "      <td>0.0</td>\n",
              "      <td>1</td>\n",
              "    </tr>\n",
              "    <tr>\n",
              "      <th>3</th>\n",
              "      <td>3</td>\n",
              "      <td>7</td>\n",
              "      <td>301</td>\n",
              "      <td>21.45</td>\n",
              "      <td>42.9</td>\n",
              "      <td>0.00</td>\n",
              "      <td>0.0</td>\n",
              "      <td>1</td>\n",
              "    </tr>\n",
              "    <tr>\n",
              "      <th>4</th>\n",
              "      <td>4</td>\n",
              "      <td>7</td>\n",
              "      <td>304</td>\n",
              "      <td>21.45</td>\n",
              "      <td>42.9</td>\n",
              "      <td>0.00</td>\n",
              "      <td>0.0</td>\n",
              "      <td>1</td>\n",
              "    </tr>\n",
              "    <tr>\n",
              "      <th>...</th>\n",
              "      <td>...</td>\n",
              "      <td>...</td>\n",
              "      <td>...</td>\n",
              "      <td>...</td>\n",
              "      <td>...</td>\n",
              "      <td>...</td>\n",
              "      <td>...</td>\n",
              "      <td>...</td>\n",
              "    </tr>\n",
              "    <tr>\n",
              "      <th>2078027</th>\n",
              "      <td>2078027</td>\n",
              "      <td>7</td>\n",
              "      <td>4531</td>\n",
              "      <td>9.95</td>\n",
              "      <td>19.9</td>\n",
              "      <td>9.95</td>\n",
              "      <td>2.0</td>\n",
              "      <td>1</td>\n",
              "    </tr>\n",
              "    <tr>\n",
              "      <th>2078028</th>\n",
              "      <td>2078028</td>\n",
              "      <td>7</td>\n",
              "      <td>325</td>\n",
              "      <td>11.45</td>\n",
              "      <td>22.9</td>\n",
              "      <td>11.45</td>\n",
              "      <td>0.0</td>\n",
              "      <td>1</td>\n",
              "    </tr>\n",
              "    <tr>\n",
              "      <th>2078029</th>\n",
              "      <td>2078029</td>\n",
              "      <td>7</td>\n",
              "      <td>418</td>\n",
              "      <td>21.95</td>\n",
              "      <td>43.9</td>\n",
              "      <td>21.95</td>\n",
              "      <td>1.0</td>\n",
              "      <td>1</td>\n",
              "    </tr>\n",
              "    <tr>\n",
              "      <th>2078030</th>\n",
              "      <td>2078030</td>\n",
              "      <td>7</td>\n",
              "      <td>1270</td>\n",
              "      <td>28.63</td>\n",
              "      <td>40.9</td>\n",
              "      <td>28.63</td>\n",
              "      <td>3.0</td>\n",
              "      <td>1</td>\n",
              "    </tr>\n",
              "    <tr>\n",
              "      <th>2078031</th>\n",
              "      <td>2078031</td>\n",
              "      <td>7</td>\n",
              "      <td>1102</td>\n",
              "      <td>10.45</td>\n",
              "      <td>20.9</td>\n",
              "      <td>10.45</td>\n",
              "      <td>5.0</td>\n",
              "      <td>1</td>\n",
              "    </tr>\n",
              "  </tbody>\n",
              "</table>\n",
              "<p>2078032 rows × 8 columns</p>\n",
              "</div>"
            ],
            "text/plain": [
              "         Unnamed: 0  category_id  product_id  ...  one_unit_price  quantity  limited\n",
              "0                 0            8         292  ...            0.00      14.0        1\n",
              "1                 1            7         295  ...            0.00       3.0        1\n",
              "2                 2            7         298  ...            0.00       0.0        1\n",
              "3                 3            7         301  ...            0.00       0.0        1\n",
              "4                 4            7         304  ...            0.00       0.0        1\n",
              "...             ...          ...         ...  ...             ...       ...      ...\n",
              "2078027     2078027            7        4531  ...            9.95       2.0        1\n",
              "2078028     2078028            7         325  ...           11.45       0.0        1\n",
              "2078029     2078029            7         418  ...           21.95       1.0        1\n",
              "2078030     2078030            7        1270  ...           28.63       3.0        1\n",
              "2078031     2078031            7        1102  ...           10.45       5.0        1\n",
              "\n",
              "[2078032 rows x 8 columns]"
            ]
          },
          "metadata": {
            "tags": []
          },
          "execution_count": 4
        }
      ]
    },
    {
      "cell_type": "code",
      "metadata": {
        "colab": {
          "base_uri": "https://localhost:8080/",
          "height": 424
        },
        "id": "yvhmxMeuR38r",
        "outputId": "d52293f6-a9fd-4be9-ba2e-06abb1024c3e"
      },
      "source": [
        "X = dataset[['category_id', 'product_id', 'regular_price', 'one_unit_price', 'quantity', 'limited']]\n",
        "y = dataset['offer_price']\n",
        "X"
      ],
      "execution_count": 5,
      "outputs": [
        {
          "output_type": "execute_result",
          "data": {
            "text/html": [
              "<div>\n",
              "<style scoped>\n",
              "    .dataframe tbody tr th:only-of-type {\n",
              "        vertical-align: middle;\n",
              "    }\n",
              "\n",
              "    .dataframe tbody tr th {\n",
              "        vertical-align: top;\n",
              "    }\n",
              "\n",
              "    .dataframe thead th {\n",
              "        text-align: right;\n",
              "    }\n",
              "</style>\n",
              "<table border=\"1\" class=\"dataframe\">\n",
              "  <thead>\n",
              "    <tr style=\"text-align: right;\">\n",
              "      <th></th>\n",
              "      <th>category_id</th>\n",
              "      <th>product_id</th>\n",
              "      <th>regular_price</th>\n",
              "      <th>one_unit_price</th>\n",
              "      <th>quantity</th>\n",
              "      <th>limited</th>\n",
              "    </tr>\n",
              "  </thead>\n",
              "  <tbody>\n",
              "    <tr>\n",
              "      <th>0</th>\n",
              "      <td>8</td>\n",
              "      <td>292</td>\n",
              "      <td>8.0</td>\n",
              "      <td>0.00</td>\n",
              "      <td>14.0</td>\n",
              "      <td>1</td>\n",
              "    </tr>\n",
              "    <tr>\n",
              "      <th>1</th>\n",
              "      <td>7</td>\n",
              "      <td>295</td>\n",
              "      <td>18.9</td>\n",
              "      <td>0.00</td>\n",
              "      <td>3.0</td>\n",
              "      <td>1</td>\n",
              "    </tr>\n",
              "    <tr>\n",
              "      <th>2</th>\n",
              "      <td>7</td>\n",
              "      <td>298</td>\n",
              "      <td>32.9</td>\n",
              "      <td>0.00</td>\n",
              "      <td>0.0</td>\n",
              "      <td>1</td>\n",
              "    </tr>\n",
              "    <tr>\n",
              "      <th>3</th>\n",
              "      <td>7</td>\n",
              "      <td>301</td>\n",
              "      <td>42.9</td>\n",
              "      <td>0.00</td>\n",
              "      <td>0.0</td>\n",
              "      <td>1</td>\n",
              "    </tr>\n",
              "    <tr>\n",
              "      <th>4</th>\n",
              "      <td>7</td>\n",
              "      <td>304</td>\n",
              "      <td>42.9</td>\n",
              "      <td>0.00</td>\n",
              "      <td>0.0</td>\n",
              "      <td>1</td>\n",
              "    </tr>\n",
              "    <tr>\n",
              "      <th>...</th>\n",
              "      <td>...</td>\n",
              "      <td>...</td>\n",
              "      <td>...</td>\n",
              "      <td>...</td>\n",
              "      <td>...</td>\n",
              "      <td>...</td>\n",
              "    </tr>\n",
              "    <tr>\n",
              "      <th>2078027</th>\n",
              "      <td>7</td>\n",
              "      <td>4531</td>\n",
              "      <td>19.9</td>\n",
              "      <td>9.95</td>\n",
              "      <td>2.0</td>\n",
              "      <td>1</td>\n",
              "    </tr>\n",
              "    <tr>\n",
              "      <th>2078028</th>\n",
              "      <td>7</td>\n",
              "      <td>325</td>\n",
              "      <td>22.9</td>\n",
              "      <td>11.45</td>\n",
              "      <td>0.0</td>\n",
              "      <td>1</td>\n",
              "    </tr>\n",
              "    <tr>\n",
              "      <th>2078029</th>\n",
              "      <td>7</td>\n",
              "      <td>418</td>\n",
              "      <td>43.9</td>\n",
              "      <td>21.95</td>\n",
              "      <td>1.0</td>\n",
              "      <td>1</td>\n",
              "    </tr>\n",
              "    <tr>\n",
              "      <th>2078030</th>\n",
              "      <td>7</td>\n",
              "      <td>1270</td>\n",
              "      <td>40.9</td>\n",
              "      <td>28.63</td>\n",
              "      <td>3.0</td>\n",
              "      <td>1</td>\n",
              "    </tr>\n",
              "    <tr>\n",
              "      <th>2078031</th>\n",
              "      <td>7</td>\n",
              "      <td>1102</td>\n",
              "      <td>20.9</td>\n",
              "      <td>10.45</td>\n",
              "      <td>5.0</td>\n",
              "      <td>1</td>\n",
              "    </tr>\n",
              "  </tbody>\n",
              "</table>\n",
              "<p>2078032 rows × 6 columns</p>\n",
              "</div>"
            ],
            "text/plain": [
              "         category_id  product_id  ...  quantity  limited\n",
              "0                  8         292  ...      14.0        1\n",
              "1                  7         295  ...       3.0        1\n",
              "2                  7         298  ...       0.0        1\n",
              "3                  7         301  ...       0.0        1\n",
              "4                  7         304  ...       0.0        1\n",
              "...              ...         ...  ...       ...      ...\n",
              "2078027            7        4531  ...       2.0        1\n",
              "2078028            7         325  ...       0.0        1\n",
              "2078029            7         418  ...       1.0        1\n",
              "2078030            7        1270  ...       3.0        1\n",
              "2078031            7        1102  ...       5.0        1\n",
              "\n",
              "[2078032 rows x 6 columns]"
            ]
          },
          "metadata": {
            "tags": []
          },
          "execution_count": 5
        }
      ]
    },
    {
      "cell_type": "code",
      "metadata": {
        "id": "Xn6W7jaNR3-w"
      },
      "source": [
        "X_train, X_test, y_train, y_test = train_test_split(X, y, test_size = 0.2, random_state = 0)"
      ],
      "execution_count": 6,
      "outputs": []
    },
    {
      "cell_type": "code",
      "metadata": {
        "colab": {
          "base_uri": "https://localhost:8080/"
        },
        "id": "9_kuV0YDR4BM",
        "outputId": "82441ad8-7de8-41e9-a5d3-5b7f7deb0496"
      },
      "source": [
        "from sklearn.neural_network import MLPRegressor\n",
        "regressor = MLPRegressor(hidden_layer_sizes = (200, 200, 200, 200, 200), activation = 'relu', solver = 'adam', max_iter = 500, learning_rate = 'adaptive')\n",
        "regressor.fit(X_train, y_train)"
      ],
      "execution_count": null,
      "outputs": [
        {
          "output_type": "stream",
          "text": [
            "/usr/local/lib/python3.7/dist-packages/sklearn/neural_network/_multilayer_perceptron.py:573: UserWarning: Training interrupted by user.\n",
            "  warnings.warn(\"Training interrupted by user.\")\n"
          ],
          "name": "stderr"
        },
        {
          "output_type": "execute_result",
          "data": {
            "text/plain": [
              "MLPRegressor(activation='relu', alpha=0.0001, batch_size='auto', beta_1=0.9,\n",
              "             beta_2=0.999, early_stopping=False, epsilon=1e-08,\n",
              "             hidden_layer_sizes=(200, 200, 200, 200, 200),\n",
              "             learning_rate='adaptive', learning_rate_init=0.001, max_fun=15000,\n",
              "             max_iter=500, momentum=0.9, n_iter_no_change=10,\n",
              "             nesterovs_momentum=True, power_t=0.5, random_state=None,\n",
              "             shuffle=True, solver='adam', tol=0.0001, validation_fraction=0.1,\n",
              "             verbose=False, warm_start=False)"
            ]
          },
          "metadata": {
            "tags": []
          },
          "execution_count": 10
        }
      ]
    },
    {
      "cell_type": "code",
      "metadata": {
        "colab": {
          "base_uri": "https://localhost:8080/",
          "height": 185
        },
        "id": "BqKi7YkZR4Cp",
        "outputId": "453d311e-3180-47df-9974-d8de4fcbeced"
      },
      "source": [
        "trainSet = pd.concat([X_train, y_train], axis = 1)\n",
        "trainSet.head()"
      ],
      "execution_count": 1,
      "outputs": [
        {
          "output_type": "error",
          "ename": "NameError",
          "evalue": "ignored",
          "traceback": [
            "\u001b[0;31m---------------------------------------------------------------------------\u001b[0m",
            "\u001b[0;31mNameError\u001b[0m                                 Traceback (most recent call last)",
            "\u001b[0;32m<ipython-input-1-5bfdce59ef5a>\u001b[0m in \u001b[0;36m<module>\u001b[0;34m()\u001b[0m\n\u001b[0;32m----> 1\u001b[0;31m \u001b[0mtrainSet\u001b[0m \u001b[0;34m=\u001b[0m \u001b[0mpd\u001b[0m\u001b[0;34m.\u001b[0m\u001b[0mconcat\u001b[0m\u001b[0;34m(\u001b[0m\u001b[0;34m[\u001b[0m\u001b[0mX_train\u001b[0m\u001b[0;34m,\u001b[0m \u001b[0my_train\u001b[0m\u001b[0;34m]\u001b[0m\u001b[0;34m,\u001b[0m \u001b[0maxis\u001b[0m \u001b[0;34m=\u001b[0m \u001b[0;36m1\u001b[0m\u001b[0;34m)\u001b[0m\u001b[0;34m\u001b[0m\u001b[0;34m\u001b[0m\u001b[0m\n\u001b[0m\u001b[1;32m      2\u001b[0m \u001b[0mtrainSet\u001b[0m\u001b[0;34m.\u001b[0m\u001b[0mhead\u001b[0m\u001b[0;34m(\u001b[0m\u001b[0;34m)\u001b[0m\u001b[0;34m\u001b[0m\u001b[0;34m\u001b[0m\u001b[0m\n",
            "\u001b[0;31mNameError\u001b[0m: name 'pd' is not defined"
          ]
        }
      ]
    },
    {
      "cell_type": "code",
      "metadata": {
        "colab": {
          "base_uri": "https://localhost:8080/"
        },
        "id": "ni2JOW_ER4Fw",
        "outputId": "47c58204-87d7-4a90-dbed-4f294fc83d5d"
      },
      "source": [
        "y_pred = regressor.predict(X_test)\n",
        "y_pred"
      ],
      "execution_count": null,
      "outputs": [
        {
          "output_type": "execute_result",
          "data": {
            "text/plain": [
              "array([39.51068736, 14.947235  , 19.32621591, ..., 26.86239481,\n",
              "       12.92738933, 58.78200837])"
            ]
          },
          "metadata": {
            "tags": []
          },
          "execution_count": 12
        }
      ]
    },
    {
      "cell_type": "code",
      "metadata": {
        "colab": {
          "base_uri": "https://localhost:8080/"
        },
        "id": "hhnXh2WWR4V7",
        "outputId": "7c125ddd-4ea7-4f46-8020-07582268f009"
      },
      "source": [
        "testSet = pd.concat([X_test, y_test], axis = 1)\n",
        "testSet.head()"
      ],
      "execution_count": null,
      "outputs": [
        {
          "output_type": "error",
          "ename": "NameError",
          "evalue": "ignored",
          "traceback": [
            "\u001b[0;31m---------------------------------------------------------------------------\u001b[0m",
            "\u001b[0;31mNameError\u001b[0m                                 Traceback (most recent call last)",
            "\u001b[0;32m<ipython-input-1-1a9f5d951c27>\u001b[0m in \u001b[0;36m<module>\u001b[0;34m()\u001b[0m\n\u001b[0;32m----> 1\u001b[0;31m \u001b[0mtestSet\u001b[0m \u001b[0;34m=\u001b[0m \u001b[0mpd\u001b[0m\u001b[0;34m.\u001b[0m\u001b[0mconcat\u001b[0m\u001b[0;34m(\u001b[0m\u001b[0;34m[\u001b[0m\u001b[0mX_test\u001b[0m\u001b[0;34m,\u001b[0m \u001b[0my_test\u001b[0m\u001b[0;34m]\u001b[0m\u001b[0;34m,\u001b[0m \u001b[0maxis\u001b[0m \u001b[0;34m=\u001b[0m \u001b[0;36m1\u001b[0m\u001b[0;34m)\u001b[0m\u001b[0;34m\u001b[0m\u001b[0;34m\u001b[0m\u001b[0m\n\u001b[0m\u001b[1;32m      2\u001b[0m \u001b[0mtestSet\u001b[0m\u001b[0;34m.\u001b[0m\u001b[0mhead\u001b[0m\u001b[0;34m(\u001b[0m\u001b[0;34m)\u001b[0m\u001b[0;34m\u001b[0m\u001b[0;34m\u001b[0m\u001b[0m\n",
            "\u001b[0;31mNameError\u001b[0m: name 'pd' is not defined"
          ]
        }
      ]
    },
    {
      "cell_type": "code",
      "metadata": {
        "colab": {
          "base_uri": "https://localhost:8080/",
          "height": 363
        },
        "id": "NxyREpYlR4Xn",
        "outputId": "aa9c8e93-eadb-45da-916e-2e0071e43745"
      },
      "source": [
        "datasetPredict = pd.concat([testSet.reset_index(), pd.Series(y_pred, name = 'offer_price')], axis = 1).round(2)\n",
        "datasetPredict.head(10)"
      ],
      "execution_count": null,
      "outputs": [
        {
          "output_type": "execute_result",
          "data": {
            "text/html": [
              "<div>\n",
              "<style scoped>\n",
              "    .dataframe tbody tr th:only-of-type {\n",
              "        vertical-align: middle;\n",
              "    }\n",
              "\n",
              "    .dataframe tbody tr th {\n",
              "        vertical-align: top;\n",
              "    }\n",
              "\n",
              "    .dataframe thead th {\n",
              "        text-align: right;\n",
              "    }\n",
              "</style>\n",
              "<table border=\"1\" class=\"dataframe\">\n",
              "  <thead>\n",
              "    <tr style=\"text-align: right;\">\n",
              "      <th></th>\n",
              "      <th>index</th>\n",
              "      <th>category_id</th>\n",
              "      <th>product_id</th>\n",
              "      <th>regular_price</th>\n",
              "      <th>one_unit_price</th>\n",
              "      <th>quantity</th>\n",
              "      <th>limited</th>\n",
              "      <th>offer_price</th>\n",
              "      <th>PredictedGenPrice</th>\n",
              "    </tr>\n",
              "  </thead>\n",
              "  <tbody>\n",
              "    <tr>\n",
              "      <th>0</th>\n",
              "      <td>1186898</td>\n",
              "      <td>7</td>\n",
              "      <td>1543</td>\n",
              "      <td>78.90</td>\n",
              "      <td>39.45</td>\n",
              "      <td>0.0</td>\n",
              "      <td>1</td>\n",
              "      <td>39.45</td>\n",
              "      <td>39.51</td>\n",
              "    </tr>\n",
              "    <tr>\n",
              "      <th>1</th>\n",
              "      <td>1536543</td>\n",
              "      <td>7</td>\n",
              "      <td>328</td>\n",
              "      <td>29.90</td>\n",
              "      <td>14.95</td>\n",
              "      <td>0.0</td>\n",
              "      <td>1</td>\n",
              "      <td>14.95</td>\n",
              "      <td>14.95</td>\n",
              "    </tr>\n",
              "    <tr>\n",
              "      <th>2</th>\n",
              "      <td>261072</td>\n",
              "      <td>7</td>\n",
              "      <td>1720</td>\n",
              "      <td>36.90</td>\n",
              "      <td>0.00</td>\n",
              "      <td>4.0</td>\n",
              "      <td>1</td>\n",
              "      <td>18.45</td>\n",
              "      <td>19.33</td>\n",
              "    </tr>\n",
              "    <tr>\n",
              "      <th>3</th>\n",
              "      <td>1839502</td>\n",
              "      <td>7</td>\n",
              "      <td>2056</td>\n",
              "      <td>53.64</td>\n",
              "      <td>74.50</td>\n",
              "      <td>0.0</td>\n",
              "      <td>1</td>\n",
              "      <td>26.82</td>\n",
              "      <td>27.09</td>\n",
              "    </tr>\n",
              "    <tr>\n",
              "      <th>4</th>\n",
              "      <td>114998</td>\n",
              "      <td>7</td>\n",
              "      <td>1753</td>\n",
              "      <td>31.90</td>\n",
              "      <td>0.00</td>\n",
              "      <td>0.0</td>\n",
              "      <td>1</td>\n",
              "      <td>15.95</td>\n",
              "      <td>16.65</td>\n",
              "    </tr>\n",
              "    <tr>\n",
              "      <th>5</th>\n",
              "      <td>402944</td>\n",
              "      <td>7</td>\n",
              "      <td>3073</td>\n",
              "      <td>22.90</td>\n",
              "      <td>0.00</td>\n",
              "      <td>0.0</td>\n",
              "      <td>1</td>\n",
              "      <td>11.45</td>\n",
              "      <td>12.29</td>\n",
              "    </tr>\n",
              "    <tr>\n",
              "      <th>6</th>\n",
              "      <td>102330</td>\n",
              "      <td>7</td>\n",
              "      <td>559</td>\n",
              "      <td>55.94</td>\n",
              "      <td>0.00</td>\n",
              "      <td>0.0</td>\n",
              "      <td>1</td>\n",
              "      <td>27.97</td>\n",
              "      <td>30.23</td>\n",
              "    </tr>\n",
              "    <tr>\n",
              "      <th>7</th>\n",
              "      <td>155456</td>\n",
              "      <td>7</td>\n",
              "      <td>724</td>\n",
              "      <td>21.90</td>\n",
              "      <td>0.00</td>\n",
              "      <td>0.0</td>\n",
              "      <td>1</td>\n",
              "      <td>10.95</td>\n",
              "      <td>11.48</td>\n",
              "    </tr>\n",
              "    <tr>\n",
              "      <th>8</th>\n",
              "      <td>1389665</td>\n",
              "      <td>7</td>\n",
              "      <td>14592</td>\n",
              "      <td>32.90</td>\n",
              "      <td>16.45</td>\n",
              "      <td>1.0</td>\n",
              "      <td>1</td>\n",
              "      <td>16.45</td>\n",
              "      <td>17.59</td>\n",
              "    </tr>\n",
              "    <tr>\n",
              "      <th>9</th>\n",
              "      <td>1020384</td>\n",
              "      <td>7</td>\n",
              "      <td>1462</td>\n",
              "      <td>67.90</td>\n",
              "      <td>33.95</td>\n",
              "      <td>0.0</td>\n",
              "      <td>1</td>\n",
              "      <td>33.95</td>\n",
              "      <td>33.62</td>\n",
              "    </tr>\n",
              "  </tbody>\n",
              "</table>\n",
              "</div>"
            ],
            "text/plain": [
              "     index  category_id  product_id  ...  limited  offer_price  PredictedGenPrice\n",
              "0  1186898            7        1543  ...        1        39.45              39.51\n",
              "1  1536543            7         328  ...        1        14.95              14.95\n",
              "2   261072            7        1720  ...        1        18.45              19.33\n",
              "3  1839502            7        2056  ...        1        26.82              27.09\n",
              "4   114998            7        1753  ...        1        15.95              16.65\n",
              "5   402944            7        3073  ...        1        11.45              12.29\n",
              "6   102330            7         559  ...        1        27.97              30.23\n",
              "7   155456            7         724  ...        1        10.95              11.48\n",
              "8  1389665            7       14592  ...        1        16.45              17.59\n",
              "9  1020384            7        1462  ...        1        33.95              33.62\n",
              "\n",
              "[10 rows x 9 columns]"
            ]
          },
          "metadata": {
            "tags": []
          },
          "execution_count": 14
        }
      ]
    },
    {
      "cell_type": "code",
      "metadata": {
        "colab": {
          "base_uri": "https://localhost:8080/",
          "height": 352
        },
        "id": "TZonfTrER4bD",
        "outputId": "4e111fbc-5d36-40fa-fa3a-c9394096601b"
      },
      "source": [
        "datasetPredict.corr()"
      ],
      "execution_count": null,
      "outputs": [
        {
          "output_type": "execute_result",
          "data": {
            "text/html": [
              "<div>\n",
              "<style scoped>\n",
              "    .dataframe tbody tr th:only-of-type {\n",
              "        vertical-align: middle;\n",
              "    }\n",
              "\n",
              "    .dataframe tbody tr th {\n",
              "        vertical-align: top;\n",
              "    }\n",
              "\n",
              "    .dataframe thead th {\n",
              "        text-align: right;\n",
              "    }\n",
              "</style>\n",
              "<table border=\"1\" class=\"dataframe\">\n",
              "  <thead>\n",
              "    <tr style=\"text-align: right;\">\n",
              "      <th></th>\n",
              "      <th>index</th>\n",
              "      <th>category_id</th>\n",
              "      <th>product_id</th>\n",
              "      <th>regular_price</th>\n",
              "      <th>one_unit_price</th>\n",
              "      <th>quantity</th>\n",
              "      <th>limited</th>\n",
              "      <th>offer_price</th>\n",
              "      <th>PredictedGenPrice</th>\n",
              "    </tr>\n",
              "  </thead>\n",
              "  <tbody>\n",
              "    <tr>\n",
              "      <th>index</th>\n",
              "      <td>1.000000</td>\n",
              "      <td>-0.002688</td>\n",
              "      <td>0.175767</td>\n",
              "      <td>-0.006360</td>\n",
              "      <td>0.432383</td>\n",
              "      <td>0.001962</td>\n",
              "      <td>NaN</td>\n",
              "      <td>-0.004782</td>\n",
              "      <td>-0.012447</td>\n",
              "    </tr>\n",
              "    <tr>\n",
              "      <th>category_id</th>\n",
              "      <td>-0.002688</td>\n",
              "      <td>1.000000</td>\n",
              "      <td>-0.001213</td>\n",
              "      <td>-0.001523</td>\n",
              "      <td>-0.001067</td>\n",
              "      <td>0.000026</td>\n",
              "      <td>NaN</td>\n",
              "      <td>-0.001454</td>\n",
              "      <td>-0.001366</td>\n",
              "    </tr>\n",
              "    <tr>\n",
              "      <th>product_id</th>\n",
              "      <td>0.175767</td>\n",
              "      <td>-0.001213</td>\n",
              "      <td>1.000000</td>\n",
              "      <td>0.192999</td>\n",
              "      <td>0.152951</td>\n",
              "      <td>0.000916</td>\n",
              "      <td>NaN</td>\n",
              "      <td>0.189246</td>\n",
              "      <td>0.201935</td>\n",
              "    </tr>\n",
              "    <tr>\n",
              "      <th>regular_price</th>\n",
              "      <td>-0.006360</td>\n",
              "      <td>-0.001523</td>\n",
              "      <td>0.192999</td>\n",
              "      <td>1.000000</td>\n",
              "      <td>0.350109</td>\n",
              "      <td>0.000680</td>\n",
              "      <td>NaN</td>\n",
              "      <td>0.973921</td>\n",
              "      <td>0.944720</td>\n",
              "    </tr>\n",
              "    <tr>\n",
              "      <th>one_unit_price</th>\n",
              "      <td>0.432383</td>\n",
              "      <td>-0.001067</td>\n",
              "      <td>0.152951</td>\n",
              "      <td>0.350109</td>\n",
              "      <td>1.000000</td>\n",
              "      <td>0.000824</td>\n",
              "      <td>NaN</td>\n",
              "      <td>0.370722</td>\n",
              "      <td>0.343338</td>\n",
              "    </tr>\n",
              "    <tr>\n",
              "      <th>quantity</th>\n",
              "      <td>0.001962</td>\n",
              "      <td>0.000026</td>\n",
              "      <td>0.000916</td>\n",
              "      <td>0.000680</td>\n",
              "      <td>0.000824</td>\n",
              "      <td>1.000000</td>\n",
              "      <td>NaN</td>\n",
              "      <td>0.000698</td>\n",
              "      <td>-0.318280</td>\n",
              "    </tr>\n",
              "    <tr>\n",
              "      <th>limited</th>\n",
              "      <td>NaN</td>\n",
              "      <td>NaN</td>\n",
              "      <td>NaN</td>\n",
              "      <td>NaN</td>\n",
              "      <td>NaN</td>\n",
              "      <td>NaN</td>\n",
              "      <td>NaN</td>\n",
              "      <td>NaN</td>\n",
              "      <td>NaN</td>\n",
              "    </tr>\n",
              "    <tr>\n",
              "      <th>offer_price</th>\n",
              "      <td>-0.004782</td>\n",
              "      <td>-0.001454</td>\n",
              "      <td>0.189246</td>\n",
              "      <td>0.973921</td>\n",
              "      <td>0.370722</td>\n",
              "      <td>0.000698</td>\n",
              "      <td>NaN</td>\n",
              "      <td>1.000000</td>\n",
              "      <td>0.926104</td>\n",
              "    </tr>\n",
              "    <tr>\n",
              "      <th>PredictedGenPrice</th>\n",
              "      <td>-0.012447</td>\n",
              "      <td>-0.001366</td>\n",
              "      <td>0.201935</td>\n",
              "      <td>0.944720</td>\n",
              "      <td>0.343338</td>\n",
              "      <td>-0.318280</td>\n",
              "      <td>NaN</td>\n",
              "      <td>0.926104</td>\n",
              "      <td>1.000000</td>\n",
              "    </tr>\n",
              "  </tbody>\n",
              "</table>\n",
              "</div>"
            ],
            "text/plain": [
              "                      index  category_id  ...  offer_price  PredictedGenPrice\n",
              "index              1.000000    -0.002688  ...    -0.004782          -0.012447\n",
              "category_id       -0.002688     1.000000  ...    -0.001454          -0.001366\n",
              "product_id         0.175767    -0.001213  ...     0.189246           0.201935\n",
              "regular_price     -0.006360    -0.001523  ...     0.973921           0.944720\n",
              "one_unit_price     0.432383    -0.001067  ...     0.370722           0.343338\n",
              "quantity           0.001962     0.000026  ...     0.000698          -0.318280\n",
              "limited                 NaN          NaN  ...          NaN                NaN\n",
              "offer_price       -0.004782    -0.001454  ...     1.000000           0.926104\n",
              "PredictedGenPrice -0.012447    -0.001366  ...     0.926104           1.000000\n",
              "\n",
              "[9 rows x 9 columns]"
            ]
          },
          "metadata": {
            "tags": []
          },
          "execution_count": 15
        }
      ]
    },
    {
      "cell_type": "code",
      "metadata": {
        "id": "YegBBBHgR4en"
      },
      "source": [
        "print(\"Training set accuracy = \" + str(regressor.score(X_train, y_train)))\n",
        "print(\"Test set accuracy = \" + str(regressor.score(X_test, y_test)))"
      ],
      "execution_count": null,
      "outputs": []
    },
    {
      "cell_type": "code",
      "metadata": {
        "id": "-KMINUbCR4hP"
      },
      "source": [
        "#MSE\n",
        "\n",
        "\n",
        "from sklearn import metrics\n",
        "print('MSE:', metrics.mean_squared_error(y_test, y_pred))\n",
        "\n"
      ],
      "execution_count": null,
      "outputs": []
    },
    {
      "cell_type": "code",
      "metadata": {
        "id": "yGL4ApR2R4i6"
      },
      "source": [
        "#MAPE\n",
        "\n",
        "def mean_absolute_percentage_error(y_test, y_pred):\n",
        "    y_test, y_pred = np.array(y_test), np.array(y_pred)\n",
        "    return np.mean(np.abs((y_test - y_pred)/y_test)) * 100\n",
        "\n",
        "print('MAPE:', mean_absolute_percentage_error(y_test, y_pred))"
      ],
      "execution_count": null,
      "outputs": []
    },
    {
      "cell_type": "code",
      "metadata": {
        "id": "h_l6z9WFR4lj"
      },
      "source": [
        "#Visualise\n",
        "\n",
        "\n",
        "\n",
        "import matplotlib.pyplot as plt\n",
        "plt.plot([i for i in range(len(y_pred))], y_pred, color = 'r')\n",
        "plt.scatter([i for i in range(len(y_pred))], y_test, color = 'b')\n",
        "plt.ylabel('Price')\n",
        "plt.xlabel('Index')\n",
        "plt.legend(['Predict', 'True'], loc = 'best')\n",
        "plt.show()\n",
        "\n"
      ],
      "execution_count": null,
      "outputs": []
    },
    {
      "cell_type": "code",
      "metadata": {
        "id": "I1sodlh7V9Zq",
        "colab": {
          "base_uri": "https://localhost:8080/"
        },
        "outputId": "ee2e252b-4374-4e75-d959-ac178b085944"
      },
      "source": [
        "from sklearn.linear_model import LinearRegression\n",
        "model = LinearRegression()\n",
        "model.fit(X_train, y_train)\n",
        "\n",
        "# prediksi\n",
        "# model.predict([x_test.iloc[0]])\n",
        "\n",
        "# score accuracy\n",
        "model.score(X_train, y_train) * 100"
      ],
      "execution_count": 8,
      "outputs": [
        {
          "output_type": "execute_result",
          "data": {
            "text/plain": [
              "94.65661461996358"
            ]
          },
          "metadata": {
            "tags": []
          },
          "execution_count": 8
        }
      ]
    },
    {
      "cell_type": "code",
      "metadata": {
        "colab": {
          "base_uri": "https://localhost:8080/"
        },
        "id": "0Z7jp-zlL5ez",
        "outputId": "ca8588bd-ecc5-4718-e4fd-48424baeaede"
      },
      "source": [
        "model.score(X_test, y_test) * 100"
      ],
      "execution_count": 10,
      "outputs": [
        {
          "output_type": "execute_result",
          "data": {
            "text/plain": [
              "94.9525139553691"
            ]
          },
          "metadata": {
            "tags": []
          },
          "execution_count": 10
        }
      ]
    },
    {
      "cell_type": "code",
      "metadata": {
        "colab": {
          "base_uri": "https://localhost:8080/",
          "height": 548
        },
        "id": "qNkRycCVL5hr",
        "outputId": "2c14783b-c871-419b-f7dc-275210c6feb5"
      },
      "source": [
        "\n",
        "### To determine important features, make use of ExtraTreesRegressor\n",
        "from sklearn.ensemble import ExtraTreesRegressor\n",
        "model = ExtraTreesRegressor()\n",
        "model.fit(X_train, y_train)\n",
        "\n",
        "print(model.feature_importances_)\n",
        "\n",
        "#plot graph of feature importances for better visualization\n",
        "feat_importances = pd.Series(model.feature_importances_, index=X.columns)\n",
        "feat_importances.nlargest(10).plot(kind='barh')\n",
        "plt.show()\n",
        "\n",
        "#plot graph of feature importances for better visualization\n",
        "feat_importances = pd.Series(model.feature_importances_, index=X.columns)\n",
        "feat_importances.nlargest(10).plot(kind='barh')\n",
        "plt.show()"
      ],
      "execution_count": 12,
      "outputs": [
        {
          "output_type": "stream",
          "text": [
            "[4.95800965e-09 2.73508750e-02 9.19151450e-01 5.03057913e-02\n",
            " 3.19187916e-03 0.00000000e+00]\n"
          ],
          "name": "stdout"
        },
        {
          "output_type": "display_data",
          "data": {
            "image/png": "[encoded data removed]",
            "text/plain": [
              "<Figure size 432x288 with 1 Axes>"
            ]
          },
          "metadata": {
            "tags": [],
            "needs_background": "light"
          }
        },
        {
          "output_type": "display_data",
          "data": {
            "image/png": "[encoded data removed]",
            "text/plain": [
              "<Figure size 432x288 with 1 Axes>"
            ]
          },
          "metadata": {
            "tags": [],
            "needs_background": "light"
          }
        }
      ]
    },
    {
      "cell_type": "code",
      "metadata": {
        "colab": {
          "base_uri": "https://localhost:8080/",
          "height": 754
        },
        "id": "6ejQOGtvUX1O",
        "outputId": "6c5e34bb-b96d-49f8-d055-c55e14a38967"
      },
      "source": [
        "# DT\n",
        "#Decision Tree Regressor\n",
        "from sklearn.tree import DecisionTreeRegressor\n",
        "dt_reg = DecisionTreeRegressor(random_state = 0)\n",
        "dt_reg.fit(X_train, y_train)\n",
        "y_pred=dt_reg.predict(X_test)\n",
        "\n",
        "print(\"Decision Tree Score on Training set is\",dt_reg.score(X_train, y_train))#Training Accuracy\n",
        "print(\"Decision Tree Score on Test Set is\",dt_reg.score(X_test, y_test))#Testing Accuracy\n",
        "\n",
        "accuracies = cross_val_score(dt_reg, X_train, y_train, cv = 5)\n",
        "print(accuracies)\n",
        "print(\"Accuracy: {:.2f} %\".format(accuracies.mean()*100))\n",
        "print(\"Standard Deviation: {:.2f} %\".format(accuracies.std()*100))\n",
        "\n",
        "mae=mean_absolute_error(y_pred, y_test)\n",
        "print(\"Mean Absolute Error:\" , mae)\n",
        "\n",
        "mse=mean_squared_error(y_test, y_pred)\n",
        "print(\"Mean Squared Error:\" , mse)\n",
        "\n",
        "print('RMSE:', np.sqrt(metrics.mean_squared_error(y_test, y_pred)))\n",
        "\n",
        "print('The r2_score is', metrics.r2_score(y_test, y_pred))\n",
        "\n",
        "sns.distplot(y_test-y_pred)\n",
        "plt.show()\n",
        "\n",
        "plt.scatter(y_test, y_pred, alpha = 0.5)\n",
        "plt.xlabel(\"y_test\")\n",
        "plt.ylabel(\"y_pred\")\n",
        "plt.show()"
      ],
      "execution_count": 20,
      "outputs": [
        {
          "output_type": "stream",
          "text": [
            "Decision Tree Score on Training set is 0.9936798792948484\n",
            "Decision Tree Score on Test Set is 0.9556358485707341\n",
            "[0.95649123 0.95744042 0.95895472 0.95677593 0.95912396]\n",
            "Accuracy: 95.78 %\n",
            "Standard Deviation: 0.11 %\n",
            "Mean Absolute Error: 1.182053777179661\n",
            "Mean Squared Error: 29.92836448700429\n",
            "RMSE: 5.470682268876917\n",
            "The r2_score is 0.9556358485707341\n"
          ],
          "name": "stdout"
        },
        {
          "output_type": "stream",
          "text": [
            "/usr/local/lib/python3.7/dist-packages/seaborn/distributions.py:2557: FutureWarning: `distplot` is a deprecated function and will be removed in a future version. Please adapt your code to use either `displot` (a figure-level function with similar flexibility) or `histplot` (an axes-level function for histograms).\n",
            "  warnings.warn(msg, FutureWarning)\n"
          ],
          "name": "stderr"
        },
        {
          "output_type": "display_data",
          "data": {
            "image/png": "[encoded data removed]",
            "text/plain": [
              "<Figure size 432x288 with 1 Axes>"
            ]
          },
          "metadata": {
            "tags": [],
            "needs_background": "light"
          }
        },
        {
          "output_type": "display_data",
          "data": {
            "image/png": "[encoded data removed]",
            "text/plain": [
              "<Figure size 432x288 with 1 Axes>"
            ]
          },
          "metadata": {
            "tags": [],
            "needs_background": "light"
          }
        }
      ]
    },
    {
      "cell_type": "code",
      "metadata": {
        "id": "TMSpoErEXhTC"
      },
      "source": [
        ""
      ],
      "execution_count": null,
      "outputs": []
    },
    {
      "cell_type": "code",
      "metadata": {
        "id": "tZsq59WPUX4A"
      },
      "source": [
        "\n",
        "import pickle\n",
        "pickle.dump(rf_reg, open(\"rf_reg.pkl\", \"wb\"))\n",
        "\n",
        "# load model from file\n",
        "model = pickle.load(open(\"rf_reg.pkl\", \"rb\"))\n",
        "\n",
        "#model.predict([[]])"
      ],
      "execution_count": null,
      "outputs": []
    },
    {
      "cell_type": "code",
      "metadata": {
        "id": "AyeaAaDKUX6Y"
      },
      "source": [
        ""
      ],
      "execution_count": null,
      "outputs": []
    },
    {
      "cell_type": "code",
      "metadata": {
        "id": "Fqp3Q2LsUX8h"
      },
      "source": [
        ""
      ],
      "execution_count": null,
      "outputs": []
    },
    {
      "cell_type": "code",
      "metadata": {
        "id": "ovhOovGRUX-c"
      },
      "source": [
        ""
      ],
      "execution_count": null,
      "outputs": []
    },
    {
      "cell_type": "code",
      "metadata": {
        "id": "vjf6z-OlUX_q"
      },
      "source": [
        ""
      ],
      "execution_count": null,
      "outputs": []
    },
    {
      "cell_type": "code",
      "metadata": {
        "id": "Me6ivQ6IUYBQ"
      },
      "source": [
        ""
      ],
      "execution_count": null,
      "outputs": []
    },
    {
      "cell_type": "code",
      "metadata": {
        "id": "ZNkdpNQSUYCW"
      },
      "source": [
        ""
      ],
      "execution_count": null,
      "outputs": []
    },
    {
      "cell_type": "code",
      "metadata": {
        "id": "8RgpGEmzUYE9"
      },
      "source": [
        ""
      ],
      "execution_count": null,
      "outputs": []
    },
    {
      "cell_type": "code",
      "metadata": {
        "id": "5OicMm_PUYGt"
      },
      "source": [
        ""
      ],
      "execution_count": null,
      "outputs": []
    },
    {
      "cell_type": "code",
      "metadata": {
        "id": "MGg4nMPbUYOa"
      },
      "source": [
        ""
      ],
      "execution_count": null,
      "outputs": []
    },
    {
      "cell_type": "code",
      "metadata": {
        "id": "43P2UWYAL5lG"
      },
      "source": [
        "#SVM\n",
        "regressor = SVR(C = 10)\n",
        "regressor.fit(X_train, y_train)"
      ],
      "execution_count": null,
      "outputs": []
    },
    {
      "cell_type": "code",
      "metadata": {
        "id": "nGZnEMD6MAv8"
      },
      "source": [
        "SVR (C = 100.0, cache_size = 200, coef0 = 0.0, degree = 3, epsilon = 0.1, gamma = 'scale', kernel = 'rbf',\n",
        "     max_iter = -1, shrinking = True, tol = 0.001, verbose = False)"
      ],
      "execution_count": null,
      "outputs": []
    }
  ]
}